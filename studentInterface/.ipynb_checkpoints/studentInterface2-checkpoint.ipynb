{
 "cells": [
  {
   "cell_type": "code",
   "execution_count": 74,
   "id": "9efdfbc6",
   "metadata": {},
   "outputs": [],
   "source": [
    "# Libraries\n",
    "\n",
    "import warnings\n",
    "warnings.filterwarnings('ignore')\n",
    "\n",
    "# b) Data extraction\n",
    "import os, base64\n",
    "import sys\n",
    "import xml.etree.ElementTree as ET\n",
    "import rdflib\n",
    "import re\n",
    "from lxml import etree\n",
    "\n",
    "# c) General\n",
    "import copy\n",
    "# import difflib\n",
    "import numpy as np\n",
    "from numpyencoder import NumpyEncoder\n",
    "import pandas as pd\n",
    "import math\n",
    "import operator as op\n",
    "# import ast\n",
    "import re\n",
    "# import string\n",
    "# import csv\n",
    "import xlsxwriter\n",
    "import json\n",
    "import ipywidgets as widgets\n",
    "import ipyvuetify\n",
    "from ipywidgets import interact, interact_manual, interactive, IntSlider, FloatSlider\n",
    "from IPython.display import display, clear_output, Image, FileLink, HTML\n",
    "from SPARQLWrapper import SPARQLWrapper, JSON\n",
    "from PIL import Image\n",
    "from scipy.optimize import curve_fit\n",
    "# from github import Github\n",
    "import requests\n",
    "from scipy.optimize import least_squares\n",
    "\n",
    "# d) Plot\n",
    "import matplotlib.pyplot as plt\n",
    "from matplotlib import markers\n",
    "import matplotlib.font_manager as font_manager\n",
    "import matplotlib.colors\n",
    "from pylab import rcParams\n",
    "import matplotlib.image as mpimg\n"
   ]
  },
  {
   "cell_type": "code",
   "execution_count": 75,
   "id": "690ce0bf",
   "metadata": {
    "code_folding": [
     0
    ]
   },
   "outputs": [],
   "source": [
    "def singleKineticBuilder(bgTemplates):\n",
    "\n",
    "    speciesNoDuplicate = []\n",
    "    for reaction in bgTemplates[singleSelection.value]['products']:\n",
    "        for stoi,product in bgTemplates[singleSelection.value]['products'][reaction]:\n",
    "            if product not in speciesNoDuplicate:\n",
    "                speciesNoDuplicate.append(product)\n",
    "    for reaction in bgTemplates[singleSelection.value]['reactants']:\n",
    "        for stoi,reactant in bgTemplates[singleSelection.value]['reactants'][reaction]:\n",
    "            if reactant not in speciesNoDuplicate:\n",
    "                speciesNoDuplicate.append(reactant)\n",
    "        \n",
    "  \n",
    "    N=np.zeros((len(speciesNoDuplicate),len(bgTemplates[singleSelection.value]['products'])))\n",
    "    \n",
    "    for s in range(len(speciesNoDuplicate)):\n",
    "        for i,reaction in enumerate(bgTemplates[singleSelection.value]['products']):\n",
    "            for stoi,product in bgTemplates[singleSelection.value]['products'][reaction]:\n",
    "                if speciesNoDuplicate[s]==product:\n",
    "                    N[s][i] = float(stoi)\n",
    "        for i,reaction in enumerate(bgTemplates[singleSelection.value]['reactants']):\n",
    "            for stoi,reactant in bgTemplates[singleSelection.value]['reactants'][reaction]:\n",
    "                if speciesNoDuplicate[s]==reactant:\n",
    "                    N[s][i] = -float(stoi)\n",
    "    \n",
    "    \n",
    "    return [N,speciesNoDuplicate]\n"
   ]
  },
  {
   "cell_type": "code",
   "execution_count": 76,
   "id": "bc902a96",
   "metadata": {
    "code_folding": [
     0
    ]
   },
   "outputs": [],
   "source": [
    "def textFileGen(speciesNoDuplicate,bgTemplates,kfkr_estimated,floatICget,N):\n",
    "\n",
    "    # Create a text file (TEXT)\n",
    "\n",
    "    unitsImport = ['def model composed_model as',\n",
    "                   '\\tdef import using \"units_BG.cellml\" for',\n",
    "                    '\\t\\tunit concentrationUnit using unit concentrationUnit;',\n",
    "                   '\\t\\tunit speciesConstantUnit using unit speciesConstantUnit;',\n",
    "                   '\\t\\tunit fluxUnit using unit fluxUnit;',\n",
    "                    '\\tenddef;',\n",
    "                  '\\tdef comp main as']\n",
    "    \n",
    "\n",
    "    with open('GFG.txt', 'w') as fp:\n",
    "        pass    \n",
    "    with open('GFG.txt', 'a') as file:\n",
    "        for line in unitsImport:\n",
    "            file.write(line+'\\n')\n",
    "\n",
    "\n",
    "    with open('GFG.txt', 'a') as file:\n",
    "        file.write('\\t\\tvar t: second {init: 0};'+'\\n')\n",
    "\n",
    "\n",
    "    for i,species in enumerate(speciesNoDuplicate):\n",
    "        with open('GFG.txt', 'a') as file:\n",
    "            file.write('\\t\\tvar ' +species+': '+'concentrationUnit '+'{'+'init: '+str([x.value for x in floatICget if x.description==species][0])+'}'+';'+'\\n')\n",
    "\n",
    "\n",
    "    for reaction in bgTemplates[singleSelection.value]['reactants']:\n",
    "        with open('GFG.txt', 'a') as file:\n",
    "            file.write('\\t\\tvar '+reaction+': '+'fluxUnit '+';'+'\\n')\n",
    "\n",
    "\n",
    "    for k in kfkr_estimated[singleSelection.value]:\n",
    "        with open('GFG.txt', 'a') as file:\n",
    "            file.write('\\t\\tvar '+ k+': '+'fluxUnit '+'{'+'init: '+str(kfkr_estimated[singleSelection.value][k])+'}'+';'+'\\n')\n",
    "\n",
    "\n",
    "    # Generating the ODEs       \n",
    "    with open('GFG.txt', 'a') as file:\n",
    "        file.write('\\n')\n",
    "\n",
    "    for i,species in enumerate(speciesNoDuplicate):\n",
    "        with open('GFG.txt', 'a') as file:\n",
    "            file.write('\\t\\tode('+species+',t)=')\n",
    "        for j in range(np.shape(N)[1]):  \n",
    "            if N[i][j] != 0:\n",
    "\n",
    "                if N[i][j] > 0:\n",
    "                    with open('GFG.txt', 'a') as file:\n",
    "                        file.write('+'+str(N[i][j])+'{dimensionless}*'+list(bgTemplates[singleSelection.value]['products'].keys())[j])\n",
    "\n",
    "                if N[i][j] < 0:\n",
    "                    with open('GFG.txt', 'a') as file:\n",
    "                        file.write(str(N[i][j])+'{dimensionless}*'+list(bgTemplates[singleSelection.value]['products'].keys())[j])\n",
    "\n",
    "        with open('GFG.txt', 'a') as file:\n",
    "            file.write(';\\n')\n",
    "\n",
    "\n",
    "    # Generating the reaction rates\n",
    "    with open('GFG.txt', 'a') as file:\n",
    "        file.write('\\n')\n",
    "\n",
    "    for r,flux in enumerate(bgTemplates[singleSelection.value]['products'].keys()):\n",
    "        with open('GFG.txt', 'a') as file:\n",
    "            file.write('\\t\\t '+ flux+'= ') \n",
    "                    \n",
    "        \n",
    "#         if singleSelection.value=='SGLT1' and 'sodium(1+)' in meaning[flux+'_'+singleSelection.value]:\n",
    "#             z_Na=1; F=96485; T=310; R=8.314; V_na=-0.046;\n",
    "#             membraneContrib = math.exp((z_Na*F*V_na)/(R*T))\n",
    "#             with open('GFG.txt', 'a') as file:\n",
    "#                 file.write(str(membraneContrib)+'{dimensionless}'+'*')\n",
    "\n",
    "        \n",
    "        with open('GFG.txt', 'a') as file:\n",
    "            file.write('k_'+str(r+1)+'f'+'*(')\n",
    "        length = 0    \n",
    "        for stoi,reactant in bgTemplates[singleSelection.value]['reactants'][flux]:\n",
    "            length+=1\n",
    "            with open('GFG.txt', 'a') as file:\n",
    "                file.write('pow('+reactant+','+str(stoi)+'{dimensionless}'+')') \n",
    "\n",
    "            if length < len(bgTemplates[singleSelection.value]['reactants'][flux]):\n",
    "                with open('GFG.txt', 'a') as file:\n",
    "                    file.write(' * ')\n",
    "\n",
    "\n",
    "\n",
    "        with open('GFG.txt', 'a') as file:\n",
    "            file.write(') - ')\n",
    "            \n",
    "            \n",
    "        with open('GFG.txt', 'a') as file:\n",
    "            file.write('k_'+str(r+1)+'r'+'*(') \n",
    "        length = 0\n",
    "        for stoi,product in bgTemplates[singleSelection.value]['products'][flux]:\n",
    "            length+=1\n",
    "            with open('GFG.txt', 'a') as file:\n",
    "                file.write('pow('+product+','+str(stoi)+'{dimensionless}'+')') \n",
    "\n",
    "            if length < len(bgTemplates[singleSelection.value]['products'][flux]):\n",
    "                with open('GFG.txt', 'a') as file:\n",
    "                    file.write(' * ')\n",
    "\n",
    "        with open('GFG.txt', 'a') as file:\n",
    "            file.write(');\\n')\n",
    "\n",
    "\n",
    "        \n",
    "\n",
    "\n",
    "\n",
    "\n",
    "\n",
    "    with open('GFG.txt', 'a') as file:\n",
    "        file.write('\\tenddef;'+'\\n'+'enddef;')\n",
    "        \n",
    "    return "
   ]
  },
  {
   "cell_type": "code",
   "execution_count": 77,
   "id": "e4a59b59",
   "metadata": {
    "code_folding": [
     0
    ]
   },
   "outputs": [],
   "source": [
    "# Generating a json file for BG templates\n",
    "F=96485\n",
    "type2_z_B=1\n",
    "\n",
    "types = ['type 1', 'type 2', 'type 3', 'type 4', 'type 5', 'type 6', 'type 7', 'type 8', 'type 9']\n",
    "reactions = {'type 1':['Re1', 'Re2', 'Re3', 'Re4'], \n",
    "            'type 2':['Re1', 'Re2', 'Re3', 'Re4', 'Re5', 'Re6'], \n",
    "            'type 3':['Re1', 'Re2', 'Re3', 'Re4', 'Re5', 'Re6'], \n",
    "            'type 4':['Re1', 'Re2', 'Re3', 'Re4', 'Re5', 'Re6', 'Re7', 'Re8']}\n",
    "\n",
    "X = dict((el,dict((el1,{}) for el1 in ['reactants','products'])) for el in types)\n",
    "\n",
    "\n",
    "X['type 1']['reactants']={'Re1': [(1,'EAi')], 'Re2': [(1,'Eo'),(1,'Ao')], 'Re3': [(1,'Ei')], 'Re4': [(1,'EAo')]}\n",
    "X['type 1']['products']={'Re1': [(1,'Ai'),(1,'Ei')], 'Re2': [(1,'EAo')], 'Re3': [(1,'Eo')], 'Re4': [(1,'EAi')]}\n",
    "\n",
    "X['type 2']['reactants']={'Re1': [(1,'Eo'),(1,'Ao')], 'Re2': [(1,'EAi')], 'Re3': [(1,'EAo'),(1,'Bo'),(type2_z_B*F,'Vm')], \n",
    "                          'Re4': [(1,'EBAi')], 'Re5': [(1,'EBAo')], 'Re6': [(1,'Ei')]}\n",
    "X['type 2']['products']={'Re1': [(1,'EAo')], 'Re2': [(1,'Ai'),(1,'Ei')], 'Re3': [(1,'EBAo')], \n",
    "                         'Re4': [(1,'EAi'),(1,'Bi')], 'Re5': [(1,'EBAi')], 'Re6': [(1,'Eo')]}\n",
    "\n",
    "X['type 3']['reactants']={'Re1': [(1,'Eo'),(1,'Ao')], 'Re2': [(1,'EAi')], 'Re3': [(1,'EBo')], \n",
    "                          'Re4': [(1,'Bi'),(1,'Ei')], 'Re5': [(1,'EBi')], 'Re6': [(1,'EAo')]}\n",
    "X['type 3']['products']={'Re1': [(1,'EAo')], 'Re2': [(1,'Ai'),(1,'Ei')], 'Re3': [(1,'Bo'),(1,'Eo')], \n",
    "                         'Re4': [(1,'EBi')], 'Re5': [(1,'EBo')], 'Re6': [(1,'EAi')]}\n",
    "\n",
    "X['type 4']['reactants']={'Re1': [(1,'EAo')], 'Re2': [(1,'Ai'),(1,'Ei')], 'Re3': [(1,'Eo'),(1,'Bo')], 'Re4': [(1,'EBi')], \n",
    "                          'Re5': [(1,'EBo'),(2,'Co')], 'Re6': [(1,'EBCi')], 'Re7': [(1,'EAi')], 'Re8': [(1,'EBCo')]}\n",
    "X['type 4']['products']={'Re1': [(1,'Ao'),(1,'Eo')], 'Re2': [(1,'EAi')], 'Re3': [(1,'EBo')], 'Re4': [(1,'Ei'),(1,'Bi')], \n",
    "                         'Re5': [(1,'EBCo')], 'Re6': [(1,'EBi'),(2,'Ci')], 'Re7': [(1,'EAo')], 'Re8': [(1,'EBCi')]}\n",
    "    \n",
    "\n",
    "json_object = json.dumps(X, indent=4, sort_keys=True,\n",
    "      separators=(', ', ': '), ensure_ascii=False,\n",
    "      cls=NumpyEncoder)\n",
    "with open(\"./jsonTemplates/bgTemplates.json\", \"w\") as outfile:\n",
    "    outfile.write(json_object)"
   ]
  },
  {
   "cell_type": "markdown",
   "id": "38b1e665",
   "metadata": {},
   "source": [
    "## Section 1: Model selection\n"
   ]
  },
  {
   "cell_type": "code",
   "execution_count": 78,
   "id": "35e691d2",
   "metadata": {
    "code_folding": [
     0
    ]
   },
   "outputs": [
    {
     "data": {
      "application/vnd.jupyter.widget-view+json": {
       "model_id": "8913aa17250a47f49fdd524924f3cc30",
       "version_major": 2,
       "version_minor": 0
      },
      "text/plain": [
       "HBox(children=(VBox(children=(Dropdown(description='Select BG type:', options=('type 1', 'type 2', 'type 3', '…"
      ]
     },
     "metadata": {},
     "output_type": "display_data"
    }
   ],
   "source": [
    "# Model Selection and BG structure demonstration\n",
    "singleSelection = widgets.Dropdown(\n",
    "            options=['type 1', 'type 2', 'type 3', 'type 4', 'type 5', 'type 6', 'type 7', 'type 8', 'type 9'],\n",
    "            description='Select BG type:',\n",
    "            style={'description_width': 'initial'},\n",
    "            disabled=False\n",
    "        )\n",
    "button_load = widgets.Button(\n",
    "                description='Load template',\n",
    "                tooltip='Load',\n",
    "                style={'description_width': 'initial'},\n",
    "                button_style='primary'\n",
    "            )\n",
    "output1 = widgets.Output(layout={'border': '1px solid black'})\n",
    "\n",
    "def button_load_clicked(event):\n",
    "    with output1:\n",
    "        clear_output()\n",
    "\n",
    "        # Define the path of the folder containing the images you want to display\n",
    "        folder_path = './figures'\n",
    "\n",
    "        for file in os.listdir(folder_path):\n",
    "            if file.strip('.jpg') == singleSelection.value or \\\n",
    "            file.strip('.JPG') == singleSelection.value or \\\n",
    "            file.strip('.JPEG') == singleSelection.value or \\\n",
    "            file.strip('.jpeg') == singleSelection.value: \n",
    "                file_path = os.path.join(folder_path, file)\n",
    "                img = Image.open(file_path)\n",
    "                new_image = img.resize((800, 500))\n",
    "                text_0 = widgets.HTML(value=\"<h5><b>Bond graph structure of {}:<b><h5>\".format(file.strip('.jpg')))\n",
    "                display(text_0,new_image)\n",
    "\n",
    "        \n",
    "button_load.on_click(button_load_clicked)\n",
    "vbox_result = widgets.VBox([button_load, output1])   \n",
    "\n",
    "vbox_text = widgets.VBox([singleSelection, vbox_result])\n",
    "page1 = widgets.HBox([vbox_text])\n",
    "\n",
    "display(page1)"
   ]
  },
  {
   "cell_type": "markdown",
   "id": "3df32400",
   "metadata": {},
   "source": [
    "## Section 2: Insert the Initial Conditions\n"
   ]
  },
  {
   "cell_type": "code",
   "execution_count": 79,
   "id": "3ba2ad61",
   "metadata": {
    "code_folding": [
     16,
     27,
     36,
     41
    ]
   },
   "outputs": [
    {
     "data": {
      "application/vnd.jupyter.widget-view+json": {
       "model_id": "bbaf7347cd5f4584a5f086cbeddd180b",
       "version_major": 2,
       "version_minor": 0
      },
      "text/plain": [
       "FloatLogSlider(value=1e-06, description='Total Enzyme Concentration', layout=Layout(width='auto'), max=0.0, mi…"
      ]
     },
     "metadata": {},
     "output_type": "display_data"
    },
    {
     "data": {
      "application/vnd.jupyter.widget-view+json": {
       "model_id": "97ee95dc3fa34466b71692c0cb5e4fc6",
       "version_major": 2,
       "version_minor": 0
      },
      "text/plain": [
       "HBox(children=(VBox(children=(Button(description='Confirm', style=ButtonStyle(button_color='lightgreen'), tool…"
      ]
     },
     "metadata": {},
     "output_type": "display_data"
    }
   ],
   "source": [
    "# Getting the initial conditions\n",
    "types = ['type 1', 'type 2', 'type 3', 'type 4', 'type 5', 'type 6', 'type 7', 'type 8', 'type 9']\n",
    "\n",
    "valueRequired1 = dict((el,[]) for el in types)\n",
    "valueRequired1['type 1']=['Ai','Ao']\n",
    "valueRequired1['type 2']=['Ai','Ao','Bi','Bo','z_B','Vm']\n",
    "valueRequired1['type 3']=['Ai','Ao','Bi','Bo']\n",
    "valueRequired1['type 4']=['Ai','Ao','Bi','Bo','Ci','Co']\n",
    "\n",
    "Enzymes = dict((el,[]) for el in types)\n",
    "Enzymes['type 1']=['Ei','Eo','EAi','EAo']\n",
    "Enzymes['type 2']=['Ei','Eo','EAi','EAo','EBAo','EBAi']\n",
    "Enzymes['type 3']=['Ei','Eo','EAi','EAo','EBo','EBi']\n",
    "Enzymes['type 4']=['Ei','Eo','EAi','EAo','EBo','EBi','EBCo','EBCi']\n",
    "\n",
    "\n",
    "E_tot = widgets.FloatLogSlider(\n",
    "    value=1e-6,\n",
    "    base=10,\n",
    "    min=-6, # max exponent of base\n",
    "    max=0, # min exponent of base\n",
    "    step=0.1, # exponent step\n",
    "    description='Total Enzyme Concentration',\n",
    "    layout={'width': 'auto'},\n",
    "    style={'description_width': 'initial'},\n",
    ")\n",
    "E_tot.style.handle_color = 'lightblue'\n",
    "display(E_tot)\n",
    "button_saveEtot = widgets.Button(\n",
    "                description='Save',\n",
    "                tooltip='Save',\n",
    "                style={'description_width': 'initial'},\n",
    "                button_style='success'\n",
    "            )\n",
    "output7 = widgets.Output(layout={'border': '1px solid black'})\n",
    "\n",
    "\n",
    "\n",
    "button_saveIC = widgets.Button(\n",
    "                description='Confirm',\n",
    "                tooltip='Save',\n",
    "                style={'description_width': 'initial'}\n",
    "            )\n",
    "button_saveIC.style.button_color = 'lightgreen'\n",
    "def button_saveIC_clicked(button_saveIC):\n",
    "    with output7:\n",
    "        clear_output()\n",
    "        print('The total enzyme concentration has been saved.')\n",
    "        print('Insert the initial concentrations.')\n",
    "\n",
    "        global E_tot, floatICget\n",
    "        floatICget=[]\n",
    "        for i,el in enumerate(valueRequired1[singleSelection.value]):\n",
    "            floatICget.append(widgets.FloatText(\n",
    "                    value=0.0,\n",
    "                    description=el,\n",
    "                    disabled=False\n",
    "                ))\n",
    "        for i,el in enumerate(Enzymes[singleSelection.value]):\n",
    "            floatICget.append(widgets.FloatText(\n",
    "                    value=E_tot.value/len(Enzymes[singleSelection.value]),\n",
    "                    description=el,\n",
    "                    disabled=False\n",
    "                ))\n",
    "            \n",
    "        output8 = widgets.Output(layout={})\n",
    "        \n",
    "        display(*floatICget)\n",
    "        def button_saveEtot_clicked(event):\n",
    "            with output8:\n",
    "                clear_output()\n",
    "                text = widgets.HTML(value=\"<h5><b>The initial conditions have been saved.<b><h5>\")\n",
    "                display(text)   \n",
    "                \n",
    "        button_saveEtot.on_click(button_saveEtot_clicked)\n",
    "\n",
    "        display(button_saveEtot)\n",
    "        display(output8)\n",
    "\n",
    "button_saveIC.on_click(button_saveIC_clicked)\n",
    "    \n",
    "    \n",
    "vbox_result = widgets.VBox([button_saveIC, output7])   \n",
    "\n",
    "page5 = widgets.HBox([vbox_result])\n",
    "\n",
    "display(page5)\n",
    "   \n",
    "\n",
    "\n"
   ]
  },
  {
   "cell_type": "markdown",
   "id": "bc7f4fbe",
   "metadata": {},
   "source": [
    "## Section 3: Insert the Steady-State Values\n",
    "\n"
   ]
  },
  {
   "cell_type": "code",
   "execution_count": 80,
   "id": "94bee147",
   "metadata": {
    "code_folding": [
     10,
     23
    ]
   },
   "outputs": [
    {
     "data": {
      "application/vnd.jupyter.widget-view+json": {
       "model_id": "31cf5d44d6ad472e99c2d5aec158c655",
       "version_major": 2,
       "version_minor": 0
      },
      "text/plain": [
       "FloatText(value=0.0, description='V_SS')"
      ]
     },
     "metadata": {},
     "output_type": "display_data"
    },
    {
     "data": {
      "application/vnd.jupyter.widget-view+json": {
       "model_id": "68725e4340024e7f8a506ca29505608a",
       "version_major": 2,
       "version_minor": 0
      },
      "text/plain": [
       "FloatText(value=0.0, description='Ai')"
      ]
     },
     "metadata": {},
     "output_type": "display_data"
    },
    {
     "data": {
      "application/vnd.jupyter.widget-view+json": {
       "model_id": "43f39a239ffe4770bdc2cdc43fedb0e7",
       "version_major": 2,
       "version_minor": 0
      },
      "text/plain": [
       "FloatText(value=0.0, description='Ao')"
      ]
     },
     "metadata": {},
     "output_type": "display_data"
    },
    {
     "data": {
      "application/vnd.jupyter.widget-view+json": {
       "model_id": "1ce245224aef4a24b05f2087eb3da75c",
       "version_major": 2,
       "version_minor": 0
      },
      "text/plain": [
       "HBox(children=(VBox(children=(Button(button_style='success', description='Save', style=ButtonStyle(), tooltip=…"
      ]
     },
     "metadata": {},
     "output_type": "display_data"
    }
   ],
   "source": [
    "# Getting the SS values\n",
    "types = ['type 1', 'type 2', 'type 3', 'type 4', 'type 5', 'type 6', 'type 7', 'type 8', 'type 9']\n",
    "valueRequired = dict((el,[]) for el in types)\n",
    "\n",
    "valueRequired['type 1']=['V_SS','Ai','Ao']\n",
    "valueRequired['type 2']=['V_SS','Ai','Ao','Bi','Bo']\n",
    "valueRequired['type 3']=['V_SS','Ai','Ao','Bi','Bo']\n",
    "valueRequired['type 4']=['V_SS','Ai','Ao','Bi','Bo','Ci','Co']\n",
    "\n",
    "floatSSget=[]\n",
    "for i,el in enumerate(valueRequired[singleSelection.value]):\n",
    "    floatSSget.append(widgets.FloatText(\n",
    "            value=0.0,\n",
    "            description=el,\n",
    "            disabled=False\n",
    "        ))\n",
    "button_saveSS = widgets.Button(\n",
    "                description='Save',\n",
    "                tooltip='Save',\n",
    "                style={'description_width': 'initial'},\n",
    "                button_style='success'\n",
    "            )\n",
    "output2 = widgets.Output(layout={'border': '1px solid black'})\n",
    "\n",
    "def button_saveSS_clicked(event):\n",
    "    with output2:\n",
    "        clear_output()\n",
    "        text = widgets.HTML(value=\"<h5><b>The inserted steady-state values have been saved.<b><h5>\")\n",
    "        display(text)      \n",
    "\n",
    "button_saveSS.on_click(button_saveSS_clicked)\n",
    "display(*floatSSget)\n",
    "\n",
    "vbox_result = widgets.VBox([button_saveSS, output2])   \n",
    "page6 = widgets.HBox([vbox_result])\n",
    "display(page6)\n",
    "\n",
    "\n"
   ]
  },
  {
   "cell_type": "markdown",
   "id": "eb0320da",
   "metadata": {},
   "source": [
    "## Section 4: The Steady-State Parameters\n"
   ]
  },
  {
   "cell_type": "code",
   "execution_count": 81,
   "id": "c59a65c6",
   "metadata": {
    "code_folding": [
     9
    ]
   },
   "outputs": [
    {
     "data": {
      "application/vnd.jupyter.widget-view+json": {
       "model_id": "401c306ab255497ebd0e0c67f2ddc2a7",
       "version_major": 2,
       "version_minor": 0
      },
      "text/plain": [
       "HBox(children=(VBox(children=(Button(button_style='primary', description='Estimate the steady-state parameters…"
      ]
     },
     "metadata": {},
     "output_type": "display_data"
    }
   ],
   "source": [
    "button_pVals = widgets.Button(\n",
    "                description='Estimate the steady-state parameters',\n",
    "                tooltip='Description',\n",
    "                layout={'width': '300px'},\n",
    "                style={'description_width': 'initial'},\n",
    "                button_style='primary'\n",
    "            )\n",
    "output3 = widgets.Output(layout={'border': '1px solid black'})\n",
    "\n",
    "\n",
    "def button_pVals_clicked(event):\n",
    "    with output3:\n",
    "        clear_output()\n",
    "        # This section works for 'type 1'\n",
    "        if singleSelection.value == 'type 1':\n",
    "            \n",
    "\n",
    "            solve = tuple()\n",
    "            solve = solve+([el.value for el in floatSSget if el.description=='Ai'][0],)\n",
    "            solve = solve+([el.value for el in floatSSget if el.description=='Ao'][0],)\n",
    "\n",
    "\n",
    "            bounds=[[],[]]\n",
    "            for i in range(6):\n",
    "                bounds[0].append(0)\n",
    "                bounds[1].append(np.inf)\n",
    "\n",
    "\n",
    "\n",
    "            def func(X, p1,p2,p3,p4,p5,p6):\n",
    "                Ai,Ao = X\n",
    "\n",
    "                V_SS = E_tot.value* (p5* Ao - p6* Ai)/ (p1 + p2*Ao + p3*Ai*Ao + p4*Ai)\n",
    "\n",
    "                return V_SS\n",
    "\n",
    "\n",
    "            popt, pcov = curve_fit(func,solve,[el.value for el in floatSSget if el.description=='V_SS'][0], maxfev=3000000, bounds=bounds)\n",
    "            if all(x==1 for x in popt): \n",
    "                print('Convergence error: Increase the E_tot value.')\n",
    "\n",
    "\n",
    "            pVals={}\n",
    "            for i,el in enumerate(popt):\n",
    "                pVals['p'+str(i+1)]=el\n",
    "            print(pVals)\n",
    "                \n",
    "            \n",
    "\n",
    "         # Create the export button widget\n",
    "        button_export = widgets.Button(description='Export the values')\n",
    "        button_export.style.button_color = 'lightgreen'\n",
    "        \n",
    "        output4 = widgets.Output()\n",
    "        # Define a function to handle the button click event\n",
    "        def export_values(button_export):\n",
    "            with output4:\n",
    "                clear_output()\n",
    "                # Save the values in .json file\n",
    "                json_object = json.dumps(pVals, indent=4, sort_keys=True,\n",
    "                      separators=(', ', ': '), ensure_ascii=False,\n",
    "                      cls=NumpyEncoder)\n",
    "                with open(\"./temporary files/pVals.json\", \"w\") as outfile:\n",
    "                    outfile.write(json_object)\n",
    "                text_2 = widgets.HTML(value=\"<h5><b>Estimated steady-state parameters saved to pVals.json<b><h5>\")\n",
    "                display(text_2)\n",
    "\n",
    "        # Attach the save_number function to the button click event\n",
    "        button_export.on_click(export_values)\n",
    "        # Display the widgets\n",
    "        vbox_result = widgets.VBox([button_export, output4]) \n",
    "        page4 = widgets.HBox([vbox_result])\n",
    "        display(page4)\n",
    "\n",
    "      \n",
    "        \n",
    "button_pVals.on_click(button_pVals_clicked)\n",
    "vbox_result = widgets.VBox([button_pVals, output3]) \n",
    "\n",
    "page3 = widgets.HBox([vbox_result])\n",
    "\n",
    "display(page3)\n",
    "\n"
   ]
  },
  {
   "cell_type": "markdown",
   "id": "f2814600",
   "metadata": {},
   "source": [
    "## Section 5: The Kinetic Parameters\n"
   ]
  },
  {
   "cell_type": "code",
   "execution_count": 82,
   "id": "04aa8228",
   "metadata": {
    "code_folding": [
     8
    ]
   },
   "outputs": [
    {
     "data": {
      "application/vnd.jupyter.widget-view+json": {
       "model_id": "5818b5762d89495d83f9cfaf46d31768",
       "version_major": 2,
       "version_minor": 0
      },
      "text/plain": [
       "HBox(children=(VBox(children=(Button(button_style='primary', description='Estimate the kinetic parameters', la…"
      ]
     },
     "metadata": {},
     "output_type": "display_data"
    }
   ],
   "source": [
    "button_kfkr = widgets.Button(\n",
    "                description='Estimate the kinetic parameters',\n",
    "                tooltip='Description',\n",
    "                style={'description_width': 'initial'},\n",
    "                layout={'width': 'auto'},\n",
    "                button_style='primary'\n",
    "            )\n",
    "output5 = widgets.Output(layout={'border': '1px solid black'})\n",
    "\n",
    "def button_kfkr_clicked(event):\n",
    "    with output5:\n",
    "        clear_output()\n",
    "        f = open(\"./temporary files/pVals.json\")\n",
    "        pVals = json.load(f)\n",
    "        \n",
    "        if singleSelection.value == 'type 1':\n",
    "            # Define the function that returns the difference between \n",
    "            # the equations and the known values\n",
    "            def equations(variables, *data):\n",
    "                k_1f, k_2f, k_3f, k_4f, k_1r, k_2r, k_3r, k_4r = variables\n",
    "                p1, p2, p3, p4, p5, p6, p7, p8 = data\n",
    "\n",
    "                eq1 = k_1f * k_3r * k_4f + k_1f * k_2r * k_3r + k_2r * k_3r * k_4r - p1*k_3f*k_4f\n",
    "                eq2 = k_1f * k_2f * k_4f + k_2f * k_3f * k_4f + k_1f * k_2f * k_3f - p2*k_3r*k_4r\n",
    "                eq3 = k_1r * k_2f * k_4f + k_1r * k_2f * k_4r - p3*k_1f\n",
    "                eq4 = k_1r * k_2r * k_4r + k_1r * k_3r * k_4f + k_1r * k_2r * k_3r + k_1r * k_3r * k_4r - p4*k_1f*k_2f\n",
    "                eq5 = k_1f * k_2f * k_3f * k_4f - p5\n",
    "                eq6 = k_1r * k_2r * k_3r * k_4r - p6\n",
    "                eq7 = k_1f + k_1r - p7\n",
    "                eq8 = k_2f + k_2r - p8\n",
    "\n",
    "                return [eq1, eq2, eq3, eq4, eq5, eq6, eq7, eq8]\n",
    "\n",
    "            # Set the known values\n",
    "            p1, p2, p3, p4, p5, p6, p7, p8 = [x for x in pVals.values()]+ [1, 1]\n",
    "\n",
    "            # Call fsolve to find the values of the unknown variables\n",
    "            x0 = (p1/p5, p2/p5, p3/p5, p4/p5, p6/p5, p7, p8, p7) # initial guess for variables\n",
    "            bounds = tuple()\n",
    "            for i in range(len(x0)):\n",
    "                bounds = bounds+((0, np.inf),) # bounds for variables\n",
    "\n",
    "            sol = least_squares(equations, x0, args=(p1, p2, p3, p4, p5, p6, p7, p8), bounds=(0, np.inf))\n",
    "\n",
    "            # Print the solution\n",
    "            print(\"k_1f =\", sol.x[0])\n",
    "            print(\"k_2f =\", sol.x[1])\n",
    "            print(\"k_3f =\", sol.x[2])\n",
    "            print(\"k_4f =\", sol.x[3])\n",
    "            print(\"k_1r =\", sol.x[4])\n",
    "            print(\"k_2r =\", sol.x[5])\n",
    "            print(\"k_3r =\", sol.x[6])\n",
    "            print(\"k_4r =\", sol.x[7])\n",
    "            \n",
    "            kfkr_estimated={}\n",
    "            keys=['k_1f', 'k_2f', 'k_3f', 'k_4f', 'k_1r', 'k_2r', 'k_3r', 'k_4r']\n",
    "            kfkr_estimated['type 1'] = dict((el,sol.x[i]) for el,i in zip(keys,range(len(sol.x))))\n",
    "            json_object = json.dumps(kfkr_estimated, indent=4, sort_keys=True,\n",
    "                      separators=(', ', ': '), ensure_ascii=False,\n",
    "                      cls=NumpyEncoder)\n",
    "            with open(\"./temporary files/kfkr_estimated.json\", \"w\") as outfile:\n",
    "                outfile.write(json_object)\n",
    "\n",
    "button_kfkr.on_click(button_kfkr_clicked)\n",
    "vbox_result = widgets.VBox([button_kfkr, output5]) \n",
    "\n",
    "page5 = widgets.HBox([vbox_result])\n",
    "\n",
    "display(page5)"
   ]
  },
  {
   "cell_type": "markdown",
   "id": "448b170e",
   "metadata": {},
   "source": [
    "## Section 6: CellML Code\n"
   ]
  },
  {
   "cell_type": "code",
   "execution_count": null,
   "id": "51b67dc2",
   "metadata": {
    "code_folding": [
     7
    ]
   },
   "outputs": [],
   "source": [
    "button_cellml = widgets.Button(\n",
    "                description='Generate code',\n",
    "                tooltip='Description',\n",
    "                style={'description_width': 'initial'},\n",
    "                button_style='danger'\n",
    "            )\n",
    "output6 = widgets.Output(layout={'border': '1px solid black'})\n",
    "\n",
    "def on_button_clicked6(event):\n",
    "    with output6:\n",
    "        clear_output()\n",
    "        f = open(\"./temporary files/kfkr_estimated.json\")\n",
    "        kfkr_estimated = json.load(f)\n",
    "        f = open(\"./jsonTemplates/bgTemplates.json\")\n",
    "        bgTemplates = json.load(f)\n",
    "        \n",
    "        [N,speciesNoDuplicate] = singleKineticBuilder(bgTemplates)\n",
    "        \n",
    "        textFileGen(speciesNoDuplicate,bgTemplates,kfkr_estimated,floatICget,N)\n",
    "        text_0 = widgets.HTML(value=\"<h3>The CellML code for the bond graph form of {} is:</h3>\".format(singleSelection.value))\n",
    "        vbox_text = widgets.VBox([text_0])\n",
    "        display(vbox_text)\n",
    "        with open('GFG.txt') as f:\n",
    "            contents = f.read()\n",
    "        print(contents)\n",
    "\n",
    "button_cellml.on_click(on_button_clicked6)\n",
    "vbox_result = widgets.VBox([button_cellml, output6]) \n",
    "display(vbox_result)\n"
   ]
  },
  {
   "cell_type": "markdown",
   "id": "fda36ef2-9afe-4db8-b3c3-0313e9da5e6d",
   "metadata": {},
   "source": [
    "# Section X: Composite Annotation"
   ]
  },
  {
   "cell_type": "code",
   "execution_count": 184,
   "id": "7386d82c-747f-4725-9e61-65484a2e1d4f",
   "metadata": {},
   "outputs": [],
   "source": [
    "import pandas as pd\n",
    "import ipywidgets as widgets \n",
    "from ipywidgets import Layout\n",
    "\n",
    "\n",
    "def annotate():\n",
    "    # Create a text input widget for searching\n",
    "    search_widget_left = widgets.Text(\n",
    "        placeholder='Enter search term...',\n",
    "        description='Keyword:'\n",
    "    )\n",
    "    search_widget_middle = widgets.Text(\n",
    "        placeholder='Enter search term...',\n",
    "        description='Keyword:'\n",
    "    )\n",
    "    search_widget_right = widgets.Text(\n",
    "        placeholder='Enter search term...',\n",
    "        description='Keyword:'\n",
    "    )\n",
    "    \n",
    "    # Create radio buttons for selecting from retrieved values\n",
    "    radio_buttons_left = widgets.RadioButtons(\n",
    "        options=[],\n",
    "        description='Select from retrieved values:',\n",
    "        disabled=True,\n",
    "        style={'description_width': 'initial'}\n",
    "    )\n",
    "    radio_buttons_middle = widgets.RadioButtons(\n",
    "        options=[],\n",
    "        description='Select from retrieved values:',\n",
    "        disabled=True,\n",
    "        style={'description_width': 'initial'}\n",
    "    )\n",
    "    radio_buttons_right = widgets.RadioButtons(\n",
    "        options=[],\n",
    "        description='Select from retrieved values:',\n",
    "        disabled=True \n",
    "    )\n",
    "\n",
    "\n",
    "    # Create a dropdown widget for selecting the search column\n",
    "    column_names_left = ['Preferred Label','Class ID']\n",
    "    column_names_widget_left = widgets.Dropdown(\n",
    "        options=['Preferred Label','Class ID'],\n",
    "        value='Preferred Label',\n",
    "        description='Search column:',\n",
    "        style={'description_width': 'initial'}\n",
    "    )\n",
    "    column_names_middle = ['Preferred Label','Class ID']\n",
    "    column_names_widget_middle = widgets.Dropdown(\n",
    "        options=['Preferred Label','Class ID'],\n",
    "        value='Preferred Label',\n",
    "        description='Search column:',\n",
    "        style={'description_width': 'initial'}\n",
    "    )\n",
    "    column_names_right = ['Preferred Label','Class ID']\n",
    "    column_names_widget_right = widgets.Dropdown(\n",
    "        options=['Preferred Label','Class ID'],\n",
    "        value='Preferred Label',\n",
    "        description='Search column:',\n",
    "        style={'description_width': 'initial'}\n",
    "    )\n",
    "\n",
    "    # Create an output widget for displaying search results\n",
    "    output_widget_left = widgets.Output(layout={'height': '150px', 'overflow': 'scroll'})\n",
    "    output_widget_middle= widgets.Output(layout={'height': '150px', 'overflow': 'scroll'})\n",
    "    output_widget_right = widgets.Output(layout={'height': '150px', 'overflow': 'scroll'})\n",
    "\n",
    "    # Define a function to handle search events\n",
    "    def handle_search_left(sender1):\n",
    "        with output_widget_left:\n",
    "            output_widget_left.clear_output()\n",
    "            df_left = pd.read_csv('OPB.csv')\n",
    "            search_term_left = search_widget_left.value.lower()\n",
    "            column_name_left = column_names_widget_left.value\n",
    "            filtered_df_left = df_left[df_left[column_name_left].str.lower().str.contains(search_term_left)]\n",
    "            radio_buttons_left.options = [z+':  '+y for z,y in zip([x.replace('http://bhi.washington.edu/OPB#',\"\") for x in filtered_df_left['Class ID'].tolist()],filtered_df_left['Preferred Label'].tolist())]\n",
    "            radio_buttons_left.disabled = False\n",
    "            radio_buttons_left.layout = Layout(width='100%', height='100%')\n",
    "            display(radio_buttons_left)\n",
    "\n",
    "    def handle_search_middle(sender2):\n",
    "        with output_widget_middle:\n",
    "            output_widget_middle.clear_output()\n",
    "            df_middle = pd.read_csv('CHEBI.csv')\n",
    "            search_term_middle = search_widget_middle.value.lower()\n",
    "            column_name_middle = column_names_widget_middle.value\n",
    "            filtered_df_middle = df_middle[df_middle[column_name_middle].astype(str).str.lower().str.contains(search_term_middle.lower(), na=False)]\n",
    "            radio_buttons_middle.options = [z+':  '+y for z,y in zip([x.replace('http://purl.obolibrary.org/obo/',\"\") for x in filtered_df_middle['Class ID'].tolist()],filtered_df_middle['Preferred Label'].tolist())]\n",
    "            radio_buttons_middle.disabled = False\n",
    "            radio_buttons_middle.layout = Layout(width='100%', height='100%')\n",
    "            display(radio_buttons_middle)\n",
    "\n",
    "    def handle_search_right(sender3):\n",
    "        with output_widget_right:\n",
    "            output_widget_right.clear_output()\n",
    "            df_right = pd.read_csv('FMA.csv')\n",
    "            search_term_right = search_widget_right.value.lower()\n",
    "            column_name_right = column_names_widget_right.value\n",
    "            filtered_df_right = df_right[df_right[column_name_right].astype(str).str.lower().str.contains(search_term_right.lower(), na=False)]\n",
    "            radio_buttons_right.options = [z+':  '+y for z,y in zip([x.replace('http://purl.obolibrary.org/obo/',\"\") for x in filtered_df_right['Class ID'].tolist()],filtered_df_right['Preferred Label'].tolist())]\n",
    "            radio_buttons_right.disabled = False\n",
    "            radio_buttons_right.layout = Layout(width='100%', height='100%')\n",
    "            display(radio_buttons_right)\n",
    "\n",
    "    # Attach the search function to the text input widget's submit event\n",
    "    search_widget_left.on_submit(handle_search_left)\n",
    "    search_widget_middle.on_submit(handle_search_middle)\n",
    "    search_widget_right.on_submit(handle_search_right)\n",
    "\n",
    "    # Display the widgets\n",
    "    text_left=widgets.HTML(value=\"<h4><b><font color='salmon'>Physical property:<b><h4>\")\n",
    "    display(text_left)\n",
    "    display(search_widget_left, column_names_widget_left)\n",
    "    display(output_widget_left)\n",
    "    text_middle=widgets.HTML(value=\"<h4><b><font color='salmon'>Physical entity:<b><h4>\")\n",
    "    display(text_middle)\n",
    "    display(search_widget_middle, column_names_widget_middle)\n",
    "    display(output_widget_middle)\n",
    "    text_right=widgets.HTML(value=\"<h4><b><font color='salmon'>Contained in:<b><h4>\")\n",
    "    display(text_right)\n",
    "    display(search_widget_right, column_names_widget_right)\n",
    "    display(output_widget_right)"
   ]
  },
  {
   "cell_type": "code",
   "execution_count": 185,
   "id": "8f6d7342-a87e-423d-a031-2cc6ca9e7651",
   "metadata": {},
   "outputs": [
    {
     "data": {
      "application/vnd.jupyter.widget-view+json": {
       "model_id": "f66d1c5a49064c9e96457bc2752a3cee",
       "version_major": 2,
       "version_minor": 0
      },
      "text/plain": [
       "HTML(value=\"<h3><b><font color='teal'>Ai<b><h3>\")"
      ]
     },
     "metadata": {},
     "output_type": "display_data"
    },
    {
     "data": {
      "application/vnd.jupyter.widget-view+json": {
       "model_id": "9ff68b281f5f47cf982df0d57471ddf2",
       "version_major": 2,
       "version_minor": 0
      },
      "text/plain": [
       "HTML(value=\"<h4><b><font color='salmon'>Physical property:<b><h4>\")"
      ]
     },
     "metadata": {},
     "output_type": "display_data"
    },
    {
     "data": {
      "application/vnd.jupyter.widget-view+json": {
       "model_id": "cec02a1ca0054006b0bc846cd6356da0",
       "version_major": 2,
       "version_minor": 0
      },
      "text/plain": [
       "Text(value='', description='Keyword:', placeholder='Enter search term...')"
      ]
     },
     "metadata": {},
     "output_type": "display_data"
    },
    {
     "data": {
      "application/vnd.jupyter.widget-view+json": {
       "model_id": "62143df92c6445ef824823b69aa548b1",
       "version_major": 2,
       "version_minor": 0
      },
      "text/plain": [
       "Dropdown(description='Search column:', options=('Preferred Label', 'Class ID'), style=DescriptionStyle(descrip…"
      ]
     },
     "metadata": {},
     "output_type": "display_data"
    },
    {
     "data": {
      "application/vnd.jupyter.widget-view+json": {
       "model_id": "67bf236834bd48a992ea33e90a9ada8e",
       "version_major": 2,
       "version_minor": 0
      },
      "text/plain": [
       "Output(layout=Layout(height='150px', overflow='scroll'))"
      ]
     },
     "metadata": {},
     "output_type": "display_data"
    },
    {
     "data": {
      "application/vnd.jupyter.widget-view+json": {
       "model_id": "7a6ab26be8db4de2b9f81eac0eac4472",
       "version_major": 2,
       "version_minor": 0
      },
      "text/plain": [
       "HTML(value=\"<h4><b><font color='salmon'>Physical entity:<b><h4>\")"
      ]
     },
     "metadata": {},
     "output_type": "display_data"
    },
    {
     "data": {
      "application/vnd.jupyter.widget-view+json": {
       "model_id": "8289ae8ffd08450d9c07569564ab8d00",
       "version_major": 2,
       "version_minor": 0
      },
      "text/plain": [
       "Text(value='', description='Keyword:', placeholder='Enter search term...')"
      ]
     },
     "metadata": {},
     "output_type": "display_data"
    },
    {
     "data": {
      "application/vnd.jupyter.widget-view+json": {
       "model_id": "eba2cc5b3ca044959e9411a40025a72d",
       "version_major": 2,
       "version_minor": 0
      },
      "text/plain": [
       "Dropdown(description='Search column:', options=('Preferred Label', 'Class ID'), style=DescriptionStyle(descrip…"
      ]
     },
     "metadata": {},
     "output_type": "display_data"
    },
    {
     "data": {
      "application/vnd.jupyter.widget-view+json": {
       "model_id": "3eadaa8adc974a299f6a1228e9ded9fa",
       "version_major": 2,
       "version_minor": 0
      },
      "text/plain": [
       "Output(layout=Layout(height='150px', overflow='scroll'))"
      ]
     },
     "metadata": {},
     "output_type": "display_data"
    },
    {
     "data": {
      "application/vnd.jupyter.widget-view+json": {
       "model_id": "b3b3c32b2c8949e99233f4022bdf104d",
       "version_major": 2,
       "version_minor": 0
      },
      "text/plain": [
       "HTML(value=\"<h4><b><font color='salmon'>Contained in:<b><h4>\")"
      ]
     },
     "metadata": {},
     "output_type": "display_data"
    },
    {
     "data": {
      "application/vnd.jupyter.widget-view+json": {
       "model_id": "3e15f240564e4a3baa464d4cf778e324",
       "version_major": 2,
       "version_minor": 0
      },
      "text/plain": [
       "Text(value='', description='Keyword:', placeholder='Enter search term...')"
      ]
     },
     "metadata": {},
     "output_type": "display_data"
    },
    {
     "data": {
      "application/vnd.jupyter.widget-view+json": {
       "model_id": "36ebd8cc47b6439e90a26580aac99c5f",
       "version_major": 2,
       "version_minor": 0
      },
      "text/plain": [
       "Dropdown(description='Search column:', options=('Preferred Label', 'Class ID'), style=DescriptionStyle(descrip…"
      ]
     },
     "metadata": {},
     "output_type": "display_data"
    },
    {
     "data": {
      "application/vnd.jupyter.widget-view+json": {
       "model_id": "3cb6fa3d8b9b4893b66bafb6482df9ba",
       "version_major": 2,
       "version_minor": 0
      },
      "text/plain": [
       "Output(layout=Layout(height='150px', overflow='scroll'))"
      ]
     },
     "metadata": {},
     "output_type": "display_data"
    },
    {
     "data": {
      "application/vnd.jupyter.widget-view+json": {
       "model_id": "b3da32ac3b2743b7863b7c4b1de02e67",
       "version_major": 2,
       "version_minor": 0
      },
      "text/plain": [
       "HTML(value=\"<h3><b><font color='teal'>Ao<b><h3>\")"
      ]
     },
     "metadata": {},
     "output_type": "display_data"
    },
    {
     "data": {
      "application/vnd.jupyter.widget-view+json": {
       "model_id": "21c12de5dae1471eb4062c74babfce79",
       "version_major": 2,
       "version_minor": 0
      },
      "text/plain": [
       "HTML(value=\"<h4><b><font color='salmon'>Physical property:<b><h4>\")"
      ]
     },
     "metadata": {},
     "output_type": "display_data"
    },
    {
     "data": {
      "application/vnd.jupyter.widget-view+json": {
       "model_id": "c5715d3a82e54493a7d8d306d9f0ee73",
       "version_major": 2,
       "version_minor": 0
      },
      "text/plain": [
       "Text(value='', description='Keyword:', placeholder='Enter search term...')"
      ]
     },
     "metadata": {},
     "output_type": "display_data"
    },
    {
     "data": {
      "application/vnd.jupyter.widget-view+json": {
       "model_id": "85aecbdffc3d480bae03994a22698a90",
       "version_major": 2,
       "version_minor": 0
      },
      "text/plain": [
       "Dropdown(description='Search column:', options=('Preferred Label', 'Class ID'), style=DescriptionStyle(descrip…"
      ]
     },
     "metadata": {},
     "output_type": "display_data"
    },
    {
     "data": {
      "application/vnd.jupyter.widget-view+json": {
       "model_id": "256fd382b01d4ce8bab9be95f11de345",
       "version_major": 2,
       "version_minor": 0
      },
      "text/plain": [
       "Output(layout=Layout(height='150px', overflow='scroll'))"
      ]
     },
     "metadata": {},
     "output_type": "display_data"
    },
    {
     "data": {
      "application/vnd.jupyter.widget-view+json": {
       "model_id": "75194c87c24f478aad24d38af4cb8f57",
       "version_major": 2,
       "version_minor": 0
      },
      "text/plain": [
       "HTML(value=\"<h4><b><font color='salmon'>Physical entity:<b><h4>\")"
      ]
     },
     "metadata": {},
     "output_type": "display_data"
    },
    {
     "data": {
      "application/vnd.jupyter.widget-view+json": {
       "model_id": "687c99c206b74bb48133ac69b8601479",
       "version_major": 2,
       "version_minor": 0
      },
      "text/plain": [
       "Text(value='', description='Keyword:', placeholder='Enter search term...')"
      ]
     },
     "metadata": {},
     "output_type": "display_data"
    },
    {
     "data": {
      "application/vnd.jupyter.widget-view+json": {
       "model_id": "979010c315ac4b5f8d5420a6928b52b7",
       "version_major": 2,
       "version_minor": 0
      },
      "text/plain": [
       "Dropdown(description='Search column:', options=('Preferred Label', 'Class ID'), style=DescriptionStyle(descrip…"
      ]
     },
     "metadata": {},
     "output_type": "display_data"
    },
    {
     "data": {
      "application/vnd.jupyter.widget-view+json": {
       "model_id": "156f84029eaf4db495ee2b4edfc6a2bc",
       "version_major": 2,
       "version_minor": 0
      },
      "text/plain": [
       "Output(layout=Layout(height='150px', overflow='scroll'))"
      ]
     },
     "metadata": {},
     "output_type": "display_data"
    },
    {
     "data": {
      "application/vnd.jupyter.widget-view+json": {
       "model_id": "3014d7e94f0b4c43b2e47cb78625d124",
       "version_major": 2,
       "version_minor": 0
      },
      "text/plain": [
       "HTML(value=\"<h4><b><font color='salmon'>Contained in:<b><h4>\")"
      ]
     },
     "metadata": {},
     "output_type": "display_data"
    },
    {
     "data": {
      "application/vnd.jupyter.widget-view+json": {
       "model_id": "bbff42cd810a4f33aa3396d426917374",
       "version_major": 2,
       "version_minor": 0
      },
      "text/plain": [
       "Text(value='', description='Keyword:', placeholder='Enter search term...')"
      ]
     },
     "metadata": {},
     "output_type": "display_data"
    },
    {
     "data": {
      "application/vnd.jupyter.widget-view+json": {
       "model_id": "7112cbf4834841e5bab54f31674afe2f",
       "version_major": 2,
       "version_minor": 0
      },
      "text/plain": [
       "Dropdown(description='Search column:', options=('Preferred Label', 'Class ID'), style=DescriptionStyle(descrip…"
      ]
     },
     "metadata": {},
     "output_type": "display_data"
    },
    {
     "data": {
      "application/vnd.jupyter.widget-view+json": {
       "model_id": "ee9f19bb7bea4a29a4e26723e795f88e",
       "version_major": 2,
       "version_minor": 0
      },
      "text/plain": [
       "Output(layout=Layout(height='150px', overflow='scroll'))"
      ]
     },
     "metadata": {},
     "output_type": "display_data"
    }
   ],
   "source": [
    "for element in valueRequired1[singleSelection.value]:\n",
    "    text=widgets.HTML(value=\"<h3><b><font color='teal'>{}<b><h3>\".format(element))\n",
    "    display(text)\n",
    "    annotate()\n"
   ]
  },
  {
   "cell_type": "code",
   "execution_count": 111,
   "id": "010954ce-f67f-46f0-871f-eb52e16beb65",
   "metadata": {},
   "outputs": [
    {
     "data": {
      "application/vnd.jupyter.widget-view+json": {
       "model_id": "5b56effef09c4aaf8d2037742edd19f9",
       "version_major": 2,
       "version_minor": 0
      },
      "text/plain": [
       "HBox(children=(VBox(children=(Text(value='', description='Name:', placeholder='Enter your name'), Button(descr…"
      ]
     },
     "metadata": {},
     "output_type": "display_data"
    }
   ],
   "source": [
    "import ipywidgets as widgets\n",
    "from IPython.display import display\n",
    "\n",
    "# Define a simple function\n",
    "def greet(name):\n",
    "    print(f'Hello, {name}!')\n",
    "\n",
    "# Create the widgets\n",
    "name_widget = widgets.Text(description='Name:', placeholder='Enter your name')\n",
    "button_widget = widgets.Button(description='Greet')\n",
    "output_widget = widgets.Output()\n",
    "\n",
    "# Define the button click event handler\n",
    "def on_button_click(b):\n",
    "    with output_widget:\n",
    "        output_widget.clear_output()\n",
    "        greet(name_widget.value)\n",
    "\n",
    "# Attach the button click event handler\n",
    "button_widget.on_click(on_button_click)\n",
    "\n",
    "# Create the layout\n",
    "left_box = widgets.VBox([name_widget, button_widget])\n",
    "right_box = widgets.VBox([output_widget])\n",
    "layout = widgets.HBox([left_box, right_box])\n",
    "\n",
    "# Display the layout\n",
    "display(layout)\n"
   ]
  },
  {
   "cell_type": "code",
   "execution_count": null,
   "id": "9417fe2b-b8f1-4cf2-acf5-65f8b8374d65",
   "metadata": {},
   "outputs": [],
   "source": []
  }
 ],
 "metadata": {
  "kernelspec": {
   "display_name": "Python 3 (ipykernel)",
   "language": "python",
   "name": "python3"
  },
  "language_info": {
   "codemirror_mode": {
    "name": "ipython",
    "version": 3
   },
   "file_extension": ".py",
   "mimetype": "text/x-python",
   "name": "python",
   "nbconvert_exporter": "python",
   "pygments_lexer": "ipython3",
   "version": "3.9.16"
  }
 },
 "nbformat": 4,
 "nbformat_minor": 5
}
