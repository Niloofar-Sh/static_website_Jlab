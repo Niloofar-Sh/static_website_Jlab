{
 "cells": [
  {
   "cell_type": "code",
   "execution_count": 1,
   "id": "c91b4bd6",
   "metadata": {},
   "outputs": [],
   "source": [
    "import warnings\n",
    "warnings.filterwarnings('ignore')\n",
    "import os, base64,io\n",
    "import sys\n",
    "import xml.etree.ElementTree as ET\n",
    "import rdflib\n",
    "from rdflib import Graph, Namespace, URIRef\n",
    "import re\n",
    "from lxml import etree\n",
    "import copy\n",
    "import numpy as np\n",
    "from numpyencoder import NumpyEncoder\n",
    "import pandas as pd\n",
    "import math\n",
    "import operator as op\n",
    "import xlsxwriter\n",
    "import json\n",
    "from SPARQLWrapper import SPARQLWrapper, JSON\n",
    "import ipywidgets as widgets\n",
    "from ipywidgets import interact, interact_manual, interactive, IntSlider, FloatSlider, Layout, FloatRangeSlider\n",
    "from IPython.display import display, clear_output, Image, FileLink, HTML, Math, Javascript\n",
    "from PIL import Image\n",
    "from scipy.optimize import curve_fit, least_squares\n",
    "import requests\n",
    "from scipy.integrate import solve_ivp, LSODA\n",
    "import matplotlib.pyplot as plt\n",
    "from matplotlib import markers\n",
    "import matplotlib.font_manager as font_manager\n",
    "import matplotlib.colors\n",
    "from pylab import rcParams\n",
    "import matplotlib.image as mpimg\n",
    "import matplotlib.ticker as ticker\n",
    "import matplotlib.cm as cm\n",
    "import gzip\n",
    "import csv\n",
    "import glob\n",
    "import urllib.request\n",
    "import libcellml\n",
    "from libcellml import Analyser, AnalyserModel, Component, Variable, Generator, GeneratorProfile, Importer, Model, Parser, Printer, Validator, Annotator, Units\n",
    "import libsbml\n",
    "from math import exp\n",
    "import networkx as nx\n",
    "from adjustText import adjust_text\n",
    "import tkinter as tk\n"
   ]
  },
  {
   "cell_type": "code",
   "execution_count": 8,
   "id": "6888adab",
   "metadata": {},
   "outputs": [],
   "source": [
    "# import pkg_resources\n",
    "\n",
    "# # Get a list of all installed packages\n",
    "# installed_packages = pkg_resources.working_set\n",
    "\n",
    "# # Get the imported packages\n",
    "# imported_packages = []\n",
    "# for package in installed_packages:\n",
    "#     try:\n",
    "#         __import__(package.key)\n",
    "#         imported_packages.append(package.key)\n",
    "#     except ImportError:\n",
    "#         pass\n",
    "\n",
    "# # Print the imported package names and versions\n",
    "# for package_name in imported_packages:\n",
    "#     package_version = pkg_resources.get_distribution(package_name).version\n",
    "#     print(f\"{package_name}=={package_version}\")\n"
   ]
  },
  {
   "cell_type": "code",
   "execution_count": null,
   "id": "5f70ee4a",
   "metadata": {},
   "outputs": [],
   "source": []
  }
 ],
 "metadata": {
  "kernelspec": {
   "display_name": "Python 3 (ipykernel)",
   "language": "python",
   "name": "python3"
  },
  "language_info": {
   "codemirror_mode": {
    "name": "ipython",
    "version": 3
   },
   "file_extension": ".py",
   "mimetype": "text/x-python",
   "name": "python",
   "nbconvert_exporter": "python",
   "pygments_lexer": "ipython3",
   "version": "3.7.3"
  }
 },
 "nbformat": 4,
 "nbformat_minor": 5
}
